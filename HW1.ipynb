{
 "cells": [
  {
   "cell_type": "markdown",
   "metadata": {},
   "source": [
    "# HW01_ch01_ex02_03"
   ]
  },
  {
   "cell_type": "code",
   "execution_count": 1,
   "metadata": {},
   "outputs": [],
   "source": [
    "# Start the Python interpreter and use it as a calculator.\n",
    "# Python's syntax for math operations is almost the same as\n",
    "# standard mathematical notation. For example, the symbols\n",
    "# +, - and / denote addition, subtraction and division, as you would expect.\n",
    "# The symbol for multiplication is *.\n",
    "\n",
    "# If you run a 10 kilometer race in 42 minutes 42 seconds, what is your\n",
    "# average pace (time per mile in minutes and seconds)? What is your average\n",
    "# speed in miles per hour?\n",
    "\n",
    "# Insert Answers\n",
    "# Average Pace (minutes & seconds per mile): [answer here]\n",
    "# 6.887096774193549 minutes per mile\n",
    "# 413.2258064516129 seconds per mile\n",
    "# Average Speed in MPH:  [answer here]\n",
    "# 8.711943793911008 mph\n",
    "\n",
    "\n",
    "# Insert calculations below (paste from the interpreter):\n",
    "# average pace in minutes per mile\n",
    "averagePace = (42 + 42/60)/(10 * 0.62)\n",
    "# average pace in seconds per mile\n",
    "averagePace = ((42 + 42/60)/(10 * 0.62))*60\n",
    "# average speed in miles per hour\n",
    "averageSpeed = (10 * 0.62)/((42 + 42/60)/60)"
   ]
  },
  {
   "cell_type": "markdown",
   "metadata": {},
   "source": [
    "# HW01_ch02_ex00_01"
   ]
  },
  {
   "cell_type": "code",
   "execution_count": 3,
   "metadata": {},
   "outputs": [
    {
     "name": "stdout",
     "output_type": "stream",
     "text": [
      "5\n"
     ]
    },
    {
     "ename": "TypeError",
     "evalue": "'x' is an invalid keyword argument for this function",
     "output_type": "error",
     "traceback": [
      "\u001b[0;31m---------------------------------------------------------------------------\u001b[0m",
      "\u001b[0;31mTypeError\u001b[0m                                 Traceback (most recent call last)",
      "\u001b[0;32m<ipython-input-3-5c53c7c4622e>\u001b[0m in \u001b[0;36m<module>\u001b[0;34m()\u001b[0m\n\u001b[1;32m     21\u001b[0m \u001b[0;31m# statement and then run it again.\u001b[0m\u001b[0;34m\u001b[0m\u001b[0;34m\u001b[0m\u001b[0m\n\u001b[1;32m     22\u001b[0m \u001b[0mprint\u001b[0m\u001b[0;34m(\u001b[0m\u001b[0;36m5\u001b[0m\u001b[0;34m)\u001b[0m\u001b[0;34m\u001b[0m\u001b[0m\n\u001b[0;32m---> 23\u001b[0;31m \u001b[0mprint\u001b[0m\u001b[0;34m(\u001b[0m\u001b[0mx\u001b[0m \u001b[0;34m=\u001b[0m \u001b[0;36m5\u001b[0m\u001b[0;34m)\u001b[0m\u001b[0;34m\u001b[0m\u001b[0m\n\u001b[0m\u001b[1;32m     24\u001b[0m \u001b[0mprint\u001b[0m \u001b[0;34m(\u001b[0m\u001b[0mx\u001b[0m \u001b[0;34m+\u001b[0m \u001b[0;36m1\u001b[0m\u001b[0;34m)\u001b[0m\u001b[0;34m\u001b[0m\u001b[0m\n\u001b[1;32m     25\u001b[0m \u001b[0;31m# What is the output?\u001b[0m\u001b[0;34m\u001b[0m\u001b[0;34m\u001b[0m\u001b[0m\n",
      "\u001b[0;31mTypeError\u001b[0m: 'x' is an invalid keyword argument for this function"
     ]
    }
   ],
   "source": [
    "# HW01_ch02_ex00_01\n",
    "# See section 2.4\n",
    "# (1) Type the following statements in the Python interpreter to see what they\n",
    "# do:\n",
    "# 5\n",
    "# x = 5\n",
    "# x + 1\n",
    "#\n",
    "# (2) Now put the same statements into a script [this script] and run it.\n",
    "# enter statements below this line ########\n",
    "\n",
    "5\n",
    "x = 5\n",
    "x + 1\n",
    "\n",
    "# enter statements above this line ########\n",
    "# What is the output?\n",
    "# [copy and past output here]\n",
    "#\n",
    "# (3) Modify the script above by transforming each expression into a print\n",
    "# statement and then run it again.\n",
    "print(5)\n",
    "print(x = 5)\n",
    "print (x + 1)\n",
    "# What is the output?\n",
    "# [copy and past output here]\n"
   ]
  },
  {
   "cell_type": "markdown",
   "metadata": {},
   "source": [
    "# HW01_ch02_ex00_02"
   ]
  },
  {
   "cell_type": "code",
   "execution_count": 4,
   "metadata": {},
   "outputs": [],
   "source": [
    "# HW01_ch02_ex00_02\n",
    "# NOTE: You do not run this script.\n",
    "# Assume that we execute the following assignment statements:\n",
    "# width = 17\n",
    "# height = 12.0\n",
    "# delimiter = '.'\n",
    "#\n",
    "# For each of the following expressions, write the value of the expression\n",
    "# and the type (of the value of the expression).\n",
    "\n",
    "# 1. width/2\n",
    "# value: 8\n",
    "# type: integer\n",
    "\n",
    "# 2. width/2.0\n",
    "# value: 8\n",
    "# type: integer\n",
    "\n",
    "# 3. height/3\n",
    "# value: 4\n",
    "# type: integer\n",
    "\n",
    "# 4. 1 + 2 * 5\n",
    "# value: 11\n",
    "# type: integer\n",
    "\n",
    "# 5. delimiter * 5\n",
    "# value: .....\n",
    "# type: string\n",
    "#\n",
    "# Use the Python interpreter to check your answers.\n",
    "# [comment on any surprises here]\n",
    "# I thought divide operator gives the floor division\n"
   ]
  },
  {
   "cell_type": "markdown",
   "metadata": {},
   "source": [
    "# HW01_ch02_ex02"
   ]
  },
  {
   "cell_type": "code",
   "execution_count": 24,
   "metadata": {},
   "outputs": [
    {
     "data": {
      "text/plain": [
       "38.1"
      ]
     },
     "execution_count": 24,
     "metadata": {},
     "output_type": "execute_result"
    }
   ],
   "source": [
    "# HW01_ch02_ex02\n",
    "# NOTE: You do not run this script.\n",
    "# #\n",
    "# Practice using the Python interpreter as a calculator.\n",
    "# Paste answer and calculations below\n",
    "\n",
    "# 1. The volume of a sphere with radius r is 4/3 π r^3.\n",
    "# What is the volume of a sphere with radius 5? [answer here]\n",
    "# 523.33\n",
    "# [calculations here]\n",
    "# 4/3 * 3.14 * 5 * 5 * 5\n",
    "\n",
    "# 2. Suppose the cover price of a book is $24.95, but bookstores get a\n",
    "# 40% discount. Shipping costs $3 for the first copy and 75 cents for\n",
    "# each additional copy. What is the total wholesale cost for 60 copies?\n",
    "# total wholesale cost: [answer here] 945.44\n",
    "# [calculations here] 24.95*0.6*60 + 3 + 59*0.75\n",
    "\n",
    "# 3. If I leave my house at 6:52 am and run 1 mile at an easy pace\n",
    "# (8:15 per mile), then 3 miles at tempo (7:12 per mile) and 1 mile at easy\n",
    "# pace again, what time do I get home for breakfast?\n",
    "# time: [answer here] 7:30\n",
    "# [calculations here] \n",
    "(8 * 60 + 15 + 3 * (7 * 60 + 12)  + 8 * 60 + 15)/60\n",
    "\n",
    "\n",
    "\n"
   ]
  },
  {
   "cell_type": "markdown",
   "metadata": {},
   "source": [
    "# HW02_ch03_ex01"
   ]
  },
  {
   "cell_type": "code",
   "execution_count": 7,
   "metadata": {},
   "outputs": [
    {
     "name": "stdout",
     "output_type": "stream",
     "text": [
      "Hello World!\n",
      "                                                                  monty\n",
      "                                                        Prakhar chandna\n"
     ]
    }
   ],
   "source": [
    "#!/usr/bin/env python\n",
    "# HW02_ch03_ex01\n",
    "\n",
    "# Python provides a built-in function called len that returns the length\n",
    "# of a string, so the value of len('monty') is 5.\n",
    "\n",
    "# Write a function named `right_justify` that takes a string named `s` as a\n",
    "# parameter and prints the string with enough leading spaces so that the\n",
    "# last letter of the string is in column 70 of the display.\n",
    "\n",
    "# Example:\n",
    "# >>> right_justify('monty')\n",
    "#                                                                  monty\n",
    "###############################################################################\n",
    "# Write your function below:\n",
    "def right_justify(s):\n",
    "\n",
    "    print(\" \" *  (70 - len(s)), s)\n",
    "# Body\n",
    "\n",
    "\n",
    "\n",
    "\n",
    "# Write your function above:\n",
    "###############################################################################\n",
    "def main():\n",
    "    \"\"\"Call your functions within this function.\"\"\"\n",
    "    print(\"Hello World!\")\n",
    "    right_justify(\"monty\")\n",
    "    right_justify(\"Prakhar chandna\")\n",
    "\n",
    "\n",
    "if __name__ == \"__main__\":\n",
    "    main()\n"
   ]
  },
  {
   "cell_type": "markdown",
   "metadata": {},
   "source": [
    "# HW02_ch03_ex02"
   ]
  },
  {
   "cell_type": "code",
   "execution_count": 8,
   "metadata": {},
   "outputs": [
    {
     "name": "stdout",
     "output_type": "stream",
     "text": [
      "spam\n",
      "spam\n",
      "spam\n",
      "spam\n"
     ]
    }
   ],
   "source": [
    "#!/usr/bin/env python\n",
    "# HW02_ch03_ex02\n",
    "\n",
    "# A function object is a value you can assign to a variable or pass as an\n",
    "# argument. For example, do_twice is a function that takes a function object\n",
    "# as an argument and calls it twice:\n",
    "\n",
    "# def do_twice(f):\n",
    "#     f()\n",
    "#     f()\n",
    "\n",
    "# Here's an example that uses `do_twice` to call a function named `print_spam`\n",
    "# twice.\n",
    "# def print_spam():\n",
    "#     print('spam')\n",
    "\n",
    "# do_twice(print_spam)\n",
    "\n",
    "# 1. Type this example into this script and test it.\n",
    "# 2. Modify `do_twice` so that it takes two arguments, a function object and a\n",
    "# value, and calls the function twice, passing the value as an argument.\n",
    "# 3. Write a more general version of `print_spam`, called `print_twice`, that\n",
    "# takes a string as a parameter and prints it twice.\n",
    "# 4. Use the modified version of `do_twice` to call `print_twice` twice,\n",
    "# passing 'spam' as an argument.\n",
    "# 5. Define a new function called `do_four` that takes a function object and a\n",
    "# value and calls the function four times, passing the value as a parameter.\n",
    "# There should be only two statements in the body of this function, not four.\n",
    "###############################################################################\n",
    "# Write your functions below:\n",
    "# Body\n",
    "\n",
    "def do_twice(func, value):\n",
    "    func(value)\n",
    "    func(value)\n",
    "\n",
    "def print_twice(value):\n",
    "    print(value)\n",
    "\n",
    "def do_four(func, value):\n",
    "    do_twice(func, value)\n",
    "    do_twice(func, value)\n",
    "\n",
    "\n",
    "\n",
    "# Write your functions above:\n",
    "###############################################################################\n",
    "def main():\n",
    "    \"\"\"Call your functions within this function.\n",
    "    When complete have one function call in this function:\n",
    "    do_four(print_twice, [some_value])\n",
    "    \"\"\"\n",
    "    do_four(print_twice, \"spam\")\n",
    "\n",
    "\n",
    "if __name__ == \"__main__\":\n",
    "    main()\n"
   ]
  },
  {
   "cell_type": "markdown",
   "metadata": {},
   "source": [
    "# HW02_ch03_ex03"
   ]
  },
  {
   "cell_type": "code",
   "execution_count": 12,
   "metadata": {},
   "outputs": [
    {
     "name": "stdout",
     "output_type": "stream",
     "text": [
      "+ - - - - + - - - - +\n",
      "|         |         |\n",
      "|         |         |\n",
      "|         |         |\n",
      "|         |         |\n",
      "+ - - - - + - - - - +\n",
      "|         |         |\n",
      "|         |         |\n",
      "|         |         |\n",
      "|         |         |\n",
      "+ - - - - + - - - - +\n",
      "+ - - - - + - - - - + - - - - + - - - - +\n",
      "|         |         |         |         |\n",
      "|         |         |         |         |\n",
      "|         |         |         |         |\n",
      "|         |         |         |         |\n",
      "+ - - - - + - - - - + - - - - + - - - - +\n",
      "|         |         |         |         |\n",
      "|         |         |         |         |\n",
      "|         |         |         |         |\n",
      "|         |         |         |         |\n",
      "+ - - - - + - - - - + - - - - + - - - - +\n",
      "|         |         |         |         |\n",
      "|         |         |         |         |\n",
      "|         |         |         |         |\n",
      "|         |         |         |         |\n",
      "+ - - - - + - - - - + - - - - + - - - - +\n",
      "|         |         |         |         |\n",
      "|         |         |         |         |\n",
      "|         |         |         |         |\n",
      "|         |         |         |         |\n",
      "+ - - - - + - - - - + - - - - + - - - - +\n"
     ]
    }
   ],
   "source": [
    "#!/usr/bin/env python\n",
    "# HW02_ch03_ex03\n",
    "\n",
    "# This exercise can be done using only the statements and other features we\n",
    "# have learned so far.\n",
    "\n",
    "# (1) Write a function that draws a grid like the following:\n",
    "# + - - - - + - - - - +\n",
    "# |         |         |\n",
    "# |         |         |\n",
    "# |         |         |\n",
    "# |         |         |\n",
    "# + - - - - + - - - - +\n",
    "# |         |         |\n",
    "# |         |         |\n",
    "# |         |         |\n",
    "# |         |         |\n",
    "# + - - - - + - - - - +\n",
    "\n",
    "# Hint: to print more than one value on a line, you can print a\n",
    "# comma-separated sequence of values:\n",
    "\n",
    "# print('+', '-')\n",
    "\n",
    "# By default, print advances to the next line, but you can\n",
    "# override that behavior and put a space at the end, like this:\n",
    "\n",
    "# print('+', end=' ')\n",
    "# print('-')\n",
    "\n",
    "# The output of these statements is '+ -'.\n",
    "\n",
    "# A print statement with no argument ends the current line and\n",
    "# goes to the next line.\n",
    "\n",
    "\n",
    "# (2) Write a function that draws a similar grid with four rows and four\n",
    "# columns.\n",
    "###############################################################################\n",
    "# Write your functions below:\n",
    "# Body\n",
    "def two_by_two():\n",
    "    row = 0, 0\n",
    "\n",
    "    for row in range(0,11,1):\n",
    "            if (row % 5 == 0):\n",
    "                print('+', '-', '-', '-' , '-', '+', '-', '-', '-', '-', '+')\n",
    "            else:\n",
    "                print(\"|\", ' ', ' ', ' ' , ' ', '|', ' ', ' ', ' ' , ' ', '|')\n",
    "                \n",
    "                \n",
    "def four_by_four():\n",
    "\n",
    "    for row in range(0,21,1):\n",
    "            if (row % 5 == 0):\n",
    "                print('+', '-', '-', '-' , '-', '+', '-', '-', '-', '-', '+', '-', '-', '-' , '-', '+', '-', '-', '-', '-', '+')\n",
    "            else:\n",
    "                print(\"|\", ' ', ' ', ' ' , ' ', '|', ' ', ' ', ' ' , ' ', '|', ' ', ' ', ' ' , ' ', '|', ' ', ' ', ' ' , ' ', '|')\n",
    "    \n",
    "                \n",
    "\n",
    "\n",
    "# Write your functions above:\n",
    "###############################################################################\n",
    "def main():\n",
    "    # Call your functions within this function.\n",
    "    # When complete have two function calls in this function:\n",
    "    two_by_two()\n",
    "    four_by_four()\n",
    "\n",
    "\n",
    "\n",
    "\n",
    "if __name__ == \"__main__\":\n",
    "    main()"
   ]
  },
  {
   "cell_type": "markdown",
   "metadata": {},
   "source": [
    "# HW02_ch05_ex00"
   ]
  },
  {
   "cell_type": "code",
   "execution_count": 13,
   "metadata": {},
   "outputs": [
    {
     "name": "stdout",
     "output_type": "stream",
     "text": [
      "Hello World\n",
      "Hello World\n",
      "Hello World\n",
      "Hello World\n",
      "Hello World\n",
      "Hello World\n",
      "Hello World\n",
      "Hello World\n",
      "Hello World\n",
      "Hello World\n",
      "Hello World\n"
     ]
    }
   ],
   "source": [
    "#!/usr/bin/env python\n",
    "# HW02_ch05_ex00 (See 5.9)\n",
    "\n",
    "# Write a function called do_n that takes a function object and a number, n, as\n",
    "# arguments, and that calls the given function n times.\n",
    "\n",
    "###############################################################################\n",
    "# Write your functions below:\n",
    "# Body\n",
    "def do_n(func, n):\n",
    "    for i in range(0, n+1):\n",
    "        func()\n",
    "    \n",
    "\n",
    "\n",
    "# Write your functions above:\n",
    "def print_hello():\n",
    "    print(\"Hello World\")\n",
    "\n",
    "\n",
    "###############################################################################\n",
    "def main():\n",
    "    \"\"\"Call your function within this function.\n",
    "    When complete have one function call in this function:\n",
    "    do_n(print_hello, 10)\n",
    "    \"\"\"\n",
    "    do_n(print_hello, 10)\n",
    "\n",
    "\n",
    "if __name__ == \"__main__\":\n",
    "    main()\n"
   ]
  },
  {
   "cell_type": "markdown",
   "metadata": {},
   "source": [
    "# HW02_ch05_ex02\n",
    "\n",
    "\n",
    "\n",
    "\n",
    "\n",
    "\n",
    "\n",
    "\n",
    "\n"
   ]
  },
  {
   "cell_type": "code",
   "execution_count": 18,
   "metadata": {},
   "outputs": [
    {
     "name": "stdout",
     "output_type": "stream",
     "text": [
      "Enter the value of a 5\n",
      "Enter the value of b 7\n",
      "Enter the value of c 8\n",
      "Enter the value of n 10\n",
      "No, that doesn't work\n"
     ]
    }
   ],
   "source": [
    "#!/usr/bin/env python\n",
    "# HW02_ch05_ex02\n",
    "\n",
    "# Fermat's Last Theorem says that there are no positive integers a, b, and c\n",
    "# such that\n",
    "#        a^n + b^n = c^n\n",
    "# for any values of n greater than 2.\n",
    "\n",
    "# (1) Write a function named `check_fermat` that takes four parameters-a, b, c\n",
    "# and n-and that checks to see if Fermat's theorem holds. If n is greater than\n",
    "# 2 and it turns out to be true that\n",
    "#        a^n + b^n = c^n\n",
    "# the program should print, \"Holy smokes, Fermat was wrong!\"\"\n",
    "# Otherwise the program should print, \"No, that doesn't work.\"\n",
    "\n",
    "# (2) Write a function named `check_fermat_ints` that prompts the user to input\n",
    "# values for a, b, c and n, converts them to integers, and uses check_fermat\n",
    "# to check whether they violate Fermat's theorem.\n",
    "\n",
    "###############################################################################\n",
    "# Write your functions below:\n",
    "# Body\n",
    "def check_fermat(a, b, c, n):\n",
    "    if (a^n + b^n == c^n):\n",
    "        print(\"holy smokes, Fermat was wrong!\")\n",
    "    else :\n",
    "        print(\"No, that doesn't work\")\n",
    "\n",
    "        \n",
    "def check_fermat_ints():\n",
    "    a = int(input(\"Enter the value of a \"))\n",
    "    b = int(input(\"Enter the value of b \"))\n",
    "    c = int(input(\"Enter the value of c \"))\n",
    "    n = int(input(\"Enter the value of n \"))\n",
    "    check_fermat(a, b, c, n)    \n",
    "\n",
    "\n",
    "# Write your functions above:\n",
    "###############################################################################\n",
    "def main():\n",
    "    \"\"\"Call your function within this function.\n",
    "    When complete have one function call in this function:\n",
    "    check_fermat_ints(1,2,3,4)\n",
    "    and two functions defined in the body:\n",
    "    check_fermat_ints()\n",
    "    check_fermat()\n",
    "    \"\"\"\n",
    "    check_fermat_ints()\n",
    "\n",
    "\n",
    "if __name__ == \"__main__\":\n",
    "    main()"
   ]
  },
  {
   "cell_type": "markdown",
   "metadata": {},
   "source": [
    "# HW02_ch05_ex03"
   ]
  },
  {
   "cell_type": "code",
   "execution_count": 19,
   "metadata": {},
   "outputs": [
    {
     "name": "stdout",
     "output_type": "stream",
     "text": [
      "Traiangle can be formed\n",
      "Triangle cannot be formed\n",
      "Triangle cannot be formed\n",
      "Triangle cannot be formed\n",
      "Enter the first length3\n",
      "Enter the second length4\n",
      "Enter the third length7\n",
      "Traiangle can be formed\n"
     ]
    }
   ],
   "source": [
    "#!/usr/bin/env python\n",
    "# HW02_ch05_ex03\n",
    "\n",
    "# If you are given three sticks, you may or may not be able to arrange them in\n",
    "# a triangle. For example, if one of the sticks is 12 inches long and the other\n",
    "# two are one inch long, it is clear that you will not be able to get the short\n",
    "# sticks to meet in the middle. For any three lengths, there is a simple test\n",
    "# to see if it is possible to form a triangle:\n",
    "\n",
    "#   If any of the three lengths is greater than the sum of the other two, then\n",
    "#   you cannot form a triangle. Otherwise, you can. (If the sum of two lengths\n",
    "#   equals the third, they form what is called a \"degenerate\" triangle.)\n",
    "\n",
    "# (1) Write a function named `is_triangle` that takes three integers as\n",
    "# arguments, and that prints either \"Yes\" or \"No,\" depending on whether you can\n",
    "# or cannot form a triangle from sticks with the given lengths.\n",
    "\n",
    "# (2) Write a function that prompts the user to input three stick lengths,\n",
    "# converts them to integers, and uses `is_triangle` to check whether sticks\n",
    "# with the given lengths can form a triangle.\n",
    "\n",
    "###############################################################################\n",
    "# Write your functions below:\n",
    "# Body\n",
    "def is_triangle(a, b, c):\n",
    "    if(a > b + c or b > a + c or c > a + b):\n",
    "        print(\"Triangle cannot be formed\")\n",
    "    else:\n",
    "        print(\"Traiangle can be formed\")\n",
    "       \n",
    "def check_stick_lengths():\n",
    "    a = int(input(\"Enter the first length\"))\n",
    "    b = int(input(\"Enter the second length\"))\n",
    "    c = int(input(\"Enter the third length\"))\n",
    "    is_triangle(a, b, c)\n",
    "\n",
    "# Write your functions above:\n",
    "###############################################################################\n",
    "def main():\n",
    "#     Call your functions within this function.\n",
    "#     When complete have four function calls in this function\n",
    "#     for is_triangle (we want to test the edge cases!):\n",
    "    is_triangle(1,2,3)\n",
    "    is_triangle(1,2,4)\n",
    "    is_triangle(1,5,3)\n",
    "    is_triangle(6,2,3)\n",
    "#     and a function call for\n",
    "    check_stick_lengths()\n",
    "\n",
    "    \n",
    "\n",
    "\n",
    "if __name__ == \"__main__\":\n",
    "    main()\n"
   ]
  },
  {
   "cell_type": "code",
   "execution_count": null,
   "metadata": {},
   "outputs": [],
   "source": [
    "\n",
    "\n",
    "\n",
    "\n",
    "\n",
    "\n"
   ]
  }
 ],
 "metadata": {
  "kernelspec": {
   "display_name": "Python 3",
   "language": "python",
   "name": "python3"
  },
  "language_info": {
   "codemirror_mode": {
    "name": "ipython",
    "version": 3
   },
   "file_extension": ".py",
   "mimetype": "text/x-python",
   "name": "python",
   "nbconvert_exporter": "python",
   "pygments_lexer": "ipython3",
   "version": "3.6.4"
  }
 },
 "nbformat": 4,
 "nbformat_minor": 2
}
